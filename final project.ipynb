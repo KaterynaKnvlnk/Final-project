{
 "cells": [
  {
   "cell_type": "code",
   "execution_count": 111,
   "metadata": {},
   "outputs": [],
   "source": [
    "import pandas as pd\n",
    "import numpy as np\n",
    "import matplotlib.pyplot as plt\n",
    "import os\n",
    "from statsmodels.stats.weightstats import ztest\n",
    "import scipy.stats as stats\n",
    "import seaborn as sns"
   ]
  },
  {
   "cell_type": "code",
   "execution_count": 2,
   "metadata": {},
   "outputs": [
    {
     "data": {
      "text/plain": [
       "['archive',\n",
       " 'archive.zip',\n",
       " 'final project.ipynb',\n",
       " 'healthcare-dataset-stroke-data.csv']"
      ]
     },
     "execution_count": 2,
     "metadata": {},
     "output_type": "execute_result"
    }
   ],
   "source": [
    "\n",
    "import os\n",
    "os.listdir('../Фінальний проект/')"
   ]
  },
  {
   "cell_type": "code",
   "execution_count": 3,
   "metadata": {},
   "outputs": [
    {
     "data": {
      "application/vnd.microsoft.datawrangler.viewer.v0+json": {
       "columns": [
        {
         "name": "index",
         "rawType": "int64",
         "type": "integer"
        },
        {
         "name": "id",
         "rawType": "int64",
         "type": "integer"
        },
        {
         "name": "gender",
         "rawType": "object",
         "type": "string"
        },
        {
         "name": "age",
         "rawType": "float64",
         "type": "float"
        },
        {
         "name": "hypertension",
         "rawType": "int64",
         "type": "integer"
        },
        {
         "name": "heart_disease",
         "rawType": "int64",
         "type": "integer"
        },
        {
         "name": "ever_married",
         "rawType": "object",
         "type": "string"
        },
        {
         "name": "work_type",
         "rawType": "object",
         "type": "string"
        },
        {
         "name": "Residence_type",
         "rawType": "object",
         "type": "string"
        },
        {
         "name": "avg_glucose_level",
         "rawType": "float64",
         "type": "float"
        },
        {
         "name": "bmi",
         "rawType": "float64",
         "type": "float"
        },
        {
         "name": "smoking_status",
         "rawType": "object",
         "type": "string"
        },
        {
         "name": "stroke",
         "rawType": "int64",
         "type": "integer"
        }
       ],
       "conversionMethod": "pd.DataFrame",
       "ref": "4b29eb12-e323-495d-926f-0d603c550373",
       "rows": [
        [
         "0",
         "9046",
         "Male",
         "67.0",
         "0",
         "1",
         "Yes",
         "Private",
         "Urban",
         "228.69",
         "36.6",
         "formerly smoked",
         "1"
        ],
        [
         "1",
         "51676",
         "Female",
         "61.0",
         "0",
         "0",
         "Yes",
         "Self-employed",
         "Rural",
         "202.21",
         null,
         "never smoked",
         "1"
        ],
        [
         "2",
         "31112",
         "Male",
         "80.0",
         "0",
         "1",
         "Yes",
         "Private",
         "Rural",
         "105.92",
         "32.5",
         "never smoked",
         "1"
        ],
        [
         "3",
         "60182",
         "Female",
         "49.0",
         "0",
         "0",
         "Yes",
         "Private",
         "Urban",
         "171.23",
         "34.4",
         "smokes",
         "1"
        ],
        [
         "4",
         "1665",
         "Female",
         "79.0",
         "1",
         "0",
         "Yes",
         "Self-employed",
         "Rural",
         "174.12",
         "24.0",
         "never smoked",
         "1"
        ],
        [
         "5",
         "56669",
         "Male",
         "81.0",
         "0",
         "0",
         "Yes",
         "Private",
         "Urban",
         "186.21",
         "29.0",
         "formerly smoked",
         "1"
        ],
        [
         "6",
         "53882",
         "Male",
         "74.0",
         "1",
         "1",
         "Yes",
         "Private",
         "Rural",
         "70.09",
         "27.4",
         "never smoked",
         "1"
        ],
        [
         "7",
         "10434",
         "Female",
         "69.0",
         "0",
         "0",
         "No",
         "Private",
         "Urban",
         "94.39",
         "22.8",
         "never smoked",
         "1"
        ],
        [
         "8",
         "27419",
         "Female",
         "59.0",
         "0",
         "0",
         "Yes",
         "Private",
         "Rural",
         "76.15",
         null,
         "Unknown",
         "1"
        ],
        [
         "9",
         "60491",
         "Female",
         "78.0",
         "0",
         "0",
         "Yes",
         "Private",
         "Urban",
         "58.57",
         "24.2",
         "Unknown",
         "1"
        ],
        [
         "10",
         "12109",
         "Female",
         "81.0",
         "1",
         "0",
         "Yes",
         "Private",
         "Rural",
         "80.43",
         "29.7",
         "never smoked",
         "1"
        ],
        [
         "11",
         "12095",
         "Female",
         "61.0",
         "0",
         "1",
         "Yes",
         "Govt_job",
         "Rural",
         "120.46",
         "36.8",
         "smokes",
         "1"
        ],
        [
         "12",
         "12175",
         "Female",
         "54.0",
         "0",
         "0",
         "Yes",
         "Private",
         "Urban",
         "104.51",
         "27.3",
         "smokes",
         "1"
        ],
        [
         "13",
         "8213",
         "Male",
         "78.0",
         "0",
         "1",
         "Yes",
         "Private",
         "Urban",
         "219.84",
         null,
         "Unknown",
         "1"
        ],
        [
         "14",
         "5317",
         "Female",
         "79.0",
         "0",
         "1",
         "Yes",
         "Private",
         "Urban",
         "214.09",
         "28.2",
         "never smoked",
         "1"
        ],
        [
         "15",
         "58202",
         "Female",
         "50.0",
         "1",
         "0",
         "Yes",
         "Self-employed",
         "Rural",
         "167.41",
         "30.9",
         "never smoked",
         "1"
        ],
        [
         "16",
         "56112",
         "Male",
         "64.0",
         "0",
         "1",
         "Yes",
         "Private",
         "Urban",
         "191.61",
         "37.5",
         "smokes",
         "1"
        ],
        [
         "17",
         "34120",
         "Male",
         "75.0",
         "1",
         "0",
         "Yes",
         "Private",
         "Urban",
         "221.29",
         "25.8",
         "smokes",
         "1"
        ],
        [
         "18",
         "27458",
         "Female",
         "60.0",
         "0",
         "0",
         "No",
         "Private",
         "Urban",
         "89.22",
         "37.8",
         "never smoked",
         "1"
        ],
        [
         "19",
         "25226",
         "Male",
         "57.0",
         "0",
         "1",
         "No",
         "Govt_job",
         "Urban",
         "217.08",
         null,
         "Unknown",
         "1"
        ],
        [
         "20",
         "70630",
         "Female",
         "71.0",
         "0",
         "0",
         "Yes",
         "Govt_job",
         "Rural",
         "193.94",
         "22.4",
         "smokes",
         "1"
        ],
        [
         "21",
         "13861",
         "Female",
         "52.0",
         "1",
         "0",
         "Yes",
         "Self-employed",
         "Urban",
         "233.29",
         "48.9",
         "never smoked",
         "1"
        ],
        [
         "22",
         "68794",
         "Female",
         "79.0",
         "0",
         "0",
         "Yes",
         "Self-employed",
         "Urban",
         "228.7",
         "26.6",
         "never smoked",
         "1"
        ],
        [
         "23",
         "64778",
         "Male",
         "82.0",
         "0",
         "1",
         "Yes",
         "Private",
         "Rural",
         "208.3",
         "32.5",
         "Unknown",
         "1"
        ],
        [
         "24",
         "4219",
         "Male",
         "71.0",
         "0",
         "0",
         "Yes",
         "Private",
         "Urban",
         "102.87",
         "27.2",
         "formerly smoked",
         "1"
        ],
        [
         "25",
         "70822",
         "Male",
         "80.0",
         "0",
         "0",
         "Yes",
         "Self-employed",
         "Rural",
         "104.12",
         "23.5",
         "never smoked",
         "1"
        ],
        [
         "26",
         "38047",
         "Female",
         "65.0",
         "0",
         "0",
         "Yes",
         "Private",
         "Rural",
         "100.98",
         "28.2",
         "formerly smoked",
         "1"
        ],
        [
         "27",
         "61843",
         "Male",
         "58.0",
         "0",
         "0",
         "Yes",
         "Private",
         "Rural",
         "189.84",
         null,
         "Unknown",
         "1"
        ],
        [
         "28",
         "54827",
         "Male",
         "69.0",
         "0",
         "1",
         "Yes",
         "Self-employed",
         "Urban",
         "195.23",
         "28.3",
         "smokes",
         "1"
        ],
        [
         "29",
         "69160",
         "Male",
         "59.0",
         "0",
         "0",
         "Yes",
         "Private",
         "Rural",
         "211.78",
         null,
         "formerly smoked",
         "1"
        ],
        [
         "30",
         "43717",
         "Male",
         "57.0",
         "1",
         "0",
         "Yes",
         "Private",
         "Urban",
         "212.08",
         "44.2",
         "smokes",
         "1"
        ],
        [
         "31",
         "33879",
         "Male",
         "42.0",
         "0",
         "0",
         "Yes",
         "Private",
         "Rural",
         "83.41",
         "25.4",
         "Unknown",
         "1"
        ],
        [
         "32",
         "39373",
         "Female",
         "82.0",
         "1",
         "0",
         "Yes",
         "Self-employed",
         "Urban",
         "196.92",
         "22.2",
         "never smoked",
         "1"
        ],
        [
         "33",
         "54401",
         "Male",
         "80.0",
         "0",
         "1",
         "Yes",
         "Self-employed",
         "Urban",
         "252.72",
         "30.5",
         "formerly smoked",
         "1"
        ],
        [
         "34",
         "14248",
         "Male",
         "48.0",
         "0",
         "0",
         "No",
         "Govt_job",
         "Urban",
         "84.2",
         "29.7",
         "never smoked",
         "1"
        ],
        [
         "35",
         "712",
         "Female",
         "82.0",
         "1",
         "1",
         "No",
         "Private",
         "Rural",
         "84.03",
         "26.5",
         "formerly smoked",
         "1"
        ],
        [
         "36",
         "47269",
         "Male",
         "74.0",
         "0",
         "0",
         "Yes",
         "Private",
         "Rural",
         "219.72",
         "33.7",
         "formerly smoked",
         "1"
        ],
        [
         "37",
         "24977",
         "Female",
         "72.0",
         "1",
         "0",
         "Yes",
         "Private",
         "Rural",
         "74.63",
         "23.1",
         "formerly smoked",
         "1"
        ],
        [
         "38",
         "47306",
         "Male",
         "58.0",
         "0",
         "0",
         "No",
         "Private",
         "Rural",
         "92.62",
         "32.0",
         "Unknown",
         "1"
        ],
        [
         "39",
         "62602",
         "Female",
         "49.0",
         "0",
         "0",
         "Yes",
         "Private",
         "Urban",
         "60.91",
         "29.9",
         "never smoked",
         "1"
        ],
        [
         "40",
         "4651",
         "Male",
         "78.0",
         "0",
         "0",
         "Yes",
         "Private",
         "Rural",
         "78.03",
         "23.9",
         "formerly smoked",
         "1"
        ],
        [
         "41",
         "1261",
         "Male",
         "54.0",
         "0",
         "0",
         "Yes",
         "Private",
         "Urban",
         "71.22",
         "28.5",
         "never smoked",
         "1"
        ],
        [
         "42",
         "61960",
         "Male",
         "82.0",
         "0",
         "1",
         "Yes",
         "Private",
         "Urban",
         "144.9",
         "26.4",
         "smokes",
         "1"
        ],
        [
         "43",
         "1845",
         "Female",
         "63.0",
         "0",
         "0",
         "Yes",
         "Private",
         "Urban",
         "90.9",
         null,
         "formerly smoked",
         "1"
        ],
        [
         "44",
         "7937",
         "Male",
         "60.0",
         "1",
         "0",
         "Yes",
         "Govt_job",
         "Urban",
         "213.03",
         "20.2",
         "smokes",
         "1"
        ],
        [
         "45",
         "19824",
         "Male",
         "76.0",
         "1",
         "0",
         "Yes",
         "Private",
         "Rural",
         "243.58",
         "33.6",
         "never smoked",
         "1"
        ],
        [
         "46",
         "37937",
         "Female",
         "75.0",
         "0",
         "1",
         "No",
         "Self-employed",
         "Urban",
         "109.78",
         null,
         "Unknown",
         "1"
        ],
        [
         "47",
         "47472",
         "Female",
         "58.0",
         "0",
         "0",
         "Yes",
         "Private",
         "Urban",
         "107.26",
         "38.6",
         "formerly smoked",
         "1"
        ],
        [
         "48",
         "35626",
         "Male",
         "81.0",
         "0",
         "0",
         "Yes",
         "Self-employed",
         "Urban",
         "99.33",
         "33.7",
         "never smoked",
         "1"
        ],
        [
         "49",
         "36338",
         "Female",
         "39.0",
         "1",
         "0",
         "Yes",
         "Private",
         "Rural",
         "58.09",
         "39.2",
         "smokes",
         "1"
        ]
       ],
       "shape": {
        "columns": 12,
        "rows": 5110
       }
      },
      "text/html": [
       "<div>\n",
       "<style scoped>\n",
       "    .dataframe tbody tr th:only-of-type {\n",
       "        vertical-align: middle;\n",
       "    }\n",
       "\n",
       "    .dataframe tbody tr th {\n",
       "        vertical-align: top;\n",
       "    }\n",
       "\n",
       "    .dataframe thead th {\n",
       "        text-align: right;\n",
       "    }\n",
       "</style>\n",
       "<table border=\"1\" class=\"dataframe\">\n",
       "  <thead>\n",
       "    <tr style=\"text-align: right;\">\n",
       "      <th></th>\n",
       "      <th>id</th>\n",
       "      <th>gender</th>\n",
       "      <th>age</th>\n",
       "      <th>hypertension</th>\n",
       "      <th>heart_disease</th>\n",
       "      <th>ever_married</th>\n",
       "      <th>work_type</th>\n",
       "      <th>Residence_type</th>\n",
       "      <th>avg_glucose_level</th>\n",
       "      <th>bmi</th>\n",
       "      <th>smoking_status</th>\n",
       "      <th>stroke</th>\n",
       "    </tr>\n",
       "  </thead>\n",
       "  <tbody>\n",
       "    <tr>\n",
       "      <th>0</th>\n",
       "      <td>9046</td>\n",
       "      <td>Male</td>\n",
       "      <td>67.0</td>\n",
       "      <td>0</td>\n",
       "      <td>1</td>\n",
       "      <td>Yes</td>\n",
       "      <td>Private</td>\n",
       "      <td>Urban</td>\n",
       "      <td>228.69</td>\n",
       "      <td>36.6</td>\n",
       "      <td>formerly smoked</td>\n",
       "      <td>1</td>\n",
       "    </tr>\n",
       "    <tr>\n",
       "      <th>1</th>\n",
       "      <td>51676</td>\n",
       "      <td>Female</td>\n",
       "      <td>61.0</td>\n",
       "      <td>0</td>\n",
       "      <td>0</td>\n",
       "      <td>Yes</td>\n",
       "      <td>Self-employed</td>\n",
       "      <td>Rural</td>\n",
       "      <td>202.21</td>\n",
       "      <td>NaN</td>\n",
       "      <td>never smoked</td>\n",
       "      <td>1</td>\n",
       "    </tr>\n",
       "    <tr>\n",
       "      <th>2</th>\n",
       "      <td>31112</td>\n",
       "      <td>Male</td>\n",
       "      <td>80.0</td>\n",
       "      <td>0</td>\n",
       "      <td>1</td>\n",
       "      <td>Yes</td>\n",
       "      <td>Private</td>\n",
       "      <td>Rural</td>\n",
       "      <td>105.92</td>\n",
       "      <td>32.5</td>\n",
       "      <td>never smoked</td>\n",
       "      <td>1</td>\n",
       "    </tr>\n",
       "    <tr>\n",
       "      <th>3</th>\n",
       "      <td>60182</td>\n",
       "      <td>Female</td>\n",
       "      <td>49.0</td>\n",
       "      <td>0</td>\n",
       "      <td>0</td>\n",
       "      <td>Yes</td>\n",
       "      <td>Private</td>\n",
       "      <td>Urban</td>\n",
       "      <td>171.23</td>\n",
       "      <td>34.4</td>\n",
       "      <td>smokes</td>\n",
       "      <td>1</td>\n",
       "    </tr>\n",
       "    <tr>\n",
       "      <th>4</th>\n",
       "      <td>1665</td>\n",
       "      <td>Female</td>\n",
       "      <td>79.0</td>\n",
       "      <td>1</td>\n",
       "      <td>0</td>\n",
       "      <td>Yes</td>\n",
       "      <td>Self-employed</td>\n",
       "      <td>Rural</td>\n",
       "      <td>174.12</td>\n",
       "      <td>24.0</td>\n",
       "      <td>never smoked</td>\n",
       "      <td>1</td>\n",
       "    </tr>\n",
       "    <tr>\n",
       "      <th>...</th>\n",
       "      <td>...</td>\n",
       "      <td>...</td>\n",
       "      <td>...</td>\n",
       "      <td>...</td>\n",
       "      <td>...</td>\n",
       "      <td>...</td>\n",
       "      <td>...</td>\n",
       "      <td>...</td>\n",
       "      <td>...</td>\n",
       "      <td>...</td>\n",
       "      <td>...</td>\n",
       "      <td>...</td>\n",
       "    </tr>\n",
       "    <tr>\n",
       "      <th>5105</th>\n",
       "      <td>18234</td>\n",
       "      <td>Female</td>\n",
       "      <td>80.0</td>\n",
       "      <td>1</td>\n",
       "      <td>0</td>\n",
       "      <td>Yes</td>\n",
       "      <td>Private</td>\n",
       "      <td>Urban</td>\n",
       "      <td>83.75</td>\n",
       "      <td>NaN</td>\n",
       "      <td>never smoked</td>\n",
       "      <td>0</td>\n",
       "    </tr>\n",
       "    <tr>\n",
       "      <th>5106</th>\n",
       "      <td>44873</td>\n",
       "      <td>Female</td>\n",
       "      <td>81.0</td>\n",
       "      <td>0</td>\n",
       "      <td>0</td>\n",
       "      <td>Yes</td>\n",
       "      <td>Self-employed</td>\n",
       "      <td>Urban</td>\n",
       "      <td>125.20</td>\n",
       "      <td>40.0</td>\n",
       "      <td>never smoked</td>\n",
       "      <td>0</td>\n",
       "    </tr>\n",
       "    <tr>\n",
       "      <th>5107</th>\n",
       "      <td>19723</td>\n",
       "      <td>Female</td>\n",
       "      <td>35.0</td>\n",
       "      <td>0</td>\n",
       "      <td>0</td>\n",
       "      <td>Yes</td>\n",
       "      <td>Self-employed</td>\n",
       "      <td>Rural</td>\n",
       "      <td>82.99</td>\n",
       "      <td>30.6</td>\n",
       "      <td>never smoked</td>\n",
       "      <td>0</td>\n",
       "    </tr>\n",
       "    <tr>\n",
       "      <th>5108</th>\n",
       "      <td>37544</td>\n",
       "      <td>Male</td>\n",
       "      <td>51.0</td>\n",
       "      <td>0</td>\n",
       "      <td>0</td>\n",
       "      <td>Yes</td>\n",
       "      <td>Private</td>\n",
       "      <td>Rural</td>\n",
       "      <td>166.29</td>\n",
       "      <td>25.6</td>\n",
       "      <td>formerly smoked</td>\n",
       "      <td>0</td>\n",
       "    </tr>\n",
       "    <tr>\n",
       "      <th>5109</th>\n",
       "      <td>44679</td>\n",
       "      <td>Female</td>\n",
       "      <td>44.0</td>\n",
       "      <td>0</td>\n",
       "      <td>0</td>\n",
       "      <td>Yes</td>\n",
       "      <td>Govt_job</td>\n",
       "      <td>Urban</td>\n",
       "      <td>85.28</td>\n",
       "      <td>26.2</td>\n",
       "      <td>Unknown</td>\n",
       "      <td>0</td>\n",
       "    </tr>\n",
       "  </tbody>\n",
       "</table>\n",
       "<p>5110 rows × 12 columns</p>\n",
       "</div>"
      ],
      "text/plain": [
       "         id  gender   age  hypertension  heart_disease ever_married  \\\n",
       "0      9046    Male  67.0             0              1          Yes   \n",
       "1     51676  Female  61.0             0              0          Yes   \n",
       "2     31112    Male  80.0             0              1          Yes   \n",
       "3     60182  Female  49.0             0              0          Yes   \n",
       "4      1665  Female  79.0             1              0          Yes   \n",
       "...     ...     ...   ...           ...            ...          ...   \n",
       "5105  18234  Female  80.0             1              0          Yes   \n",
       "5106  44873  Female  81.0             0              0          Yes   \n",
       "5107  19723  Female  35.0             0              0          Yes   \n",
       "5108  37544    Male  51.0             0              0          Yes   \n",
       "5109  44679  Female  44.0             0              0          Yes   \n",
       "\n",
       "          work_type Residence_type  avg_glucose_level   bmi   smoking_status  \\\n",
       "0           Private          Urban             228.69  36.6  formerly smoked   \n",
       "1     Self-employed          Rural             202.21   NaN     never smoked   \n",
       "2           Private          Rural             105.92  32.5     never smoked   \n",
       "3           Private          Urban             171.23  34.4           smokes   \n",
       "4     Self-employed          Rural             174.12  24.0     never smoked   \n",
       "...             ...            ...                ...   ...              ...   \n",
       "5105        Private          Urban              83.75   NaN     never smoked   \n",
       "5106  Self-employed          Urban             125.20  40.0     never smoked   \n",
       "5107  Self-employed          Rural              82.99  30.6     never smoked   \n",
       "5108        Private          Rural             166.29  25.6  formerly smoked   \n",
       "5109       Govt_job          Urban              85.28  26.2          Unknown   \n",
       "\n",
       "      stroke  \n",
       "0          1  \n",
       "1          1  \n",
       "2          1  \n",
       "3          1  \n",
       "4          1  \n",
       "...      ...  \n",
       "5105       0  \n",
       "5106       0  \n",
       "5107       0  \n",
       "5108       0  \n",
       "5109       0  \n",
       "\n",
       "[5110 rows x 12 columns]"
      ]
     },
     "execution_count": 3,
     "metadata": {},
     "output_type": "execute_result"
    }
   ],
   "source": [
    "data_path = '../Фінальний проект/healthcare-dataset-stroke-data.csv'\n",
    "df = pd.read_csv(data_path)\n",
    "df"
   ]
  },
  {
   "cell_type": "markdown",
   "metadata": {},
   "source": [
    "Delete lines with at least one missing value and save it in new dataframe"
   ]
  },
  {
   "cell_type": "code",
   "execution_count": 4,
   "metadata": {},
   "outputs": [
    {
     "data": {
      "application/vnd.microsoft.datawrangler.viewer.v0+json": {
       "columns": [
        {
         "name": "index",
         "rawType": "int64",
         "type": "integer"
        },
        {
         "name": "id",
         "rawType": "int64",
         "type": "integer"
        },
        {
         "name": "gender",
         "rawType": "object",
         "type": "string"
        },
        {
         "name": "age",
         "rawType": "float64",
         "type": "float"
        },
        {
         "name": "hypertension",
         "rawType": "int64",
         "type": "integer"
        },
        {
         "name": "heart_disease",
         "rawType": "int64",
         "type": "integer"
        },
        {
         "name": "ever_married",
         "rawType": "object",
         "type": "string"
        },
        {
         "name": "work_type",
         "rawType": "object",
         "type": "string"
        },
        {
         "name": "Residence_type",
         "rawType": "object",
         "type": "string"
        },
        {
         "name": "avg_glucose_level",
         "rawType": "float64",
         "type": "float"
        },
        {
         "name": "bmi",
         "rawType": "float64",
         "type": "float"
        },
        {
         "name": "smoking_status",
         "rawType": "object",
         "type": "string"
        },
        {
         "name": "stroke",
         "rawType": "int64",
         "type": "integer"
        }
       ],
       "conversionMethod": "pd.DataFrame",
       "ref": "45cf8cdf-c41d-4300-a26c-5c14f2e0b96d",
       "rows": [
        [
         "0",
         "9046",
         "Male",
         "67.0",
         "0",
         "1",
         "Yes",
         "Private",
         "Urban",
         "228.69",
         "36.6",
         "formerly smoked",
         "1"
        ],
        [
         "2",
         "31112",
         "Male",
         "80.0",
         "0",
         "1",
         "Yes",
         "Private",
         "Rural",
         "105.92",
         "32.5",
         "never smoked",
         "1"
        ],
        [
         "3",
         "60182",
         "Female",
         "49.0",
         "0",
         "0",
         "Yes",
         "Private",
         "Urban",
         "171.23",
         "34.4",
         "smokes",
         "1"
        ],
        [
         "4",
         "1665",
         "Female",
         "79.0",
         "1",
         "0",
         "Yes",
         "Self-employed",
         "Rural",
         "174.12",
         "24.0",
         "never smoked",
         "1"
        ],
        [
         "5",
         "56669",
         "Male",
         "81.0",
         "0",
         "0",
         "Yes",
         "Private",
         "Urban",
         "186.21",
         "29.0",
         "formerly smoked",
         "1"
        ],
        [
         "6",
         "53882",
         "Male",
         "74.0",
         "1",
         "1",
         "Yes",
         "Private",
         "Rural",
         "70.09",
         "27.4",
         "never smoked",
         "1"
        ],
        [
         "7",
         "10434",
         "Female",
         "69.0",
         "0",
         "0",
         "No",
         "Private",
         "Urban",
         "94.39",
         "22.8",
         "never smoked",
         "1"
        ],
        [
         "9",
         "60491",
         "Female",
         "78.0",
         "0",
         "0",
         "Yes",
         "Private",
         "Urban",
         "58.57",
         "24.2",
         "Unknown",
         "1"
        ],
        [
         "10",
         "12109",
         "Female",
         "81.0",
         "1",
         "0",
         "Yes",
         "Private",
         "Rural",
         "80.43",
         "29.7",
         "never smoked",
         "1"
        ],
        [
         "11",
         "12095",
         "Female",
         "61.0",
         "0",
         "1",
         "Yes",
         "Govt_job",
         "Rural",
         "120.46",
         "36.8",
         "smokes",
         "1"
        ],
        [
         "12",
         "12175",
         "Female",
         "54.0",
         "0",
         "0",
         "Yes",
         "Private",
         "Urban",
         "104.51",
         "27.3",
         "smokes",
         "1"
        ],
        [
         "14",
         "5317",
         "Female",
         "79.0",
         "0",
         "1",
         "Yes",
         "Private",
         "Urban",
         "214.09",
         "28.2",
         "never smoked",
         "1"
        ],
        [
         "15",
         "58202",
         "Female",
         "50.0",
         "1",
         "0",
         "Yes",
         "Self-employed",
         "Rural",
         "167.41",
         "30.9",
         "never smoked",
         "1"
        ],
        [
         "16",
         "56112",
         "Male",
         "64.0",
         "0",
         "1",
         "Yes",
         "Private",
         "Urban",
         "191.61",
         "37.5",
         "smokes",
         "1"
        ],
        [
         "17",
         "34120",
         "Male",
         "75.0",
         "1",
         "0",
         "Yes",
         "Private",
         "Urban",
         "221.29",
         "25.8",
         "smokes",
         "1"
        ],
        [
         "18",
         "27458",
         "Female",
         "60.0",
         "0",
         "0",
         "No",
         "Private",
         "Urban",
         "89.22",
         "37.8",
         "never smoked",
         "1"
        ],
        [
         "20",
         "70630",
         "Female",
         "71.0",
         "0",
         "0",
         "Yes",
         "Govt_job",
         "Rural",
         "193.94",
         "22.4",
         "smokes",
         "1"
        ],
        [
         "21",
         "13861",
         "Female",
         "52.0",
         "1",
         "0",
         "Yes",
         "Self-employed",
         "Urban",
         "233.29",
         "48.9",
         "never smoked",
         "1"
        ],
        [
         "22",
         "68794",
         "Female",
         "79.0",
         "0",
         "0",
         "Yes",
         "Self-employed",
         "Urban",
         "228.7",
         "26.6",
         "never smoked",
         "1"
        ],
        [
         "23",
         "64778",
         "Male",
         "82.0",
         "0",
         "1",
         "Yes",
         "Private",
         "Rural",
         "208.3",
         "32.5",
         "Unknown",
         "1"
        ],
        [
         "24",
         "4219",
         "Male",
         "71.0",
         "0",
         "0",
         "Yes",
         "Private",
         "Urban",
         "102.87",
         "27.2",
         "formerly smoked",
         "1"
        ],
        [
         "25",
         "70822",
         "Male",
         "80.0",
         "0",
         "0",
         "Yes",
         "Self-employed",
         "Rural",
         "104.12",
         "23.5",
         "never smoked",
         "1"
        ],
        [
         "26",
         "38047",
         "Female",
         "65.0",
         "0",
         "0",
         "Yes",
         "Private",
         "Rural",
         "100.98",
         "28.2",
         "formerly smoked",
         "1"
        ],
        [
         "28",
         "54827",
         "Male",
         "69.0",
         "0",
         "1",
         "Yes",
         "Self-employed",
         "Urban",
         "195.23",
         "28.3",
         "smokes",
         "1"
        ],
        [
         "30",
         "43717",
         "Male",
         "57.0",
         "1",
         "0",
         "Yes",
         "Private",
         "Urban",
         "212.08",
         "44.2",
         "smokes",
         "1"
        ],
        [
         "31",
         "33879",
         "Male",
         "42.0",
         "0",
         "0",
         "Yes",
         "Private",
         "Rural",
         "83.41",
         "25.4",
         "Unknown",
         "1"
        ],
        [
         "32",
         "39373",
         "Female",
         "82.0",
         "1",
         "0",
         "Yes",
         "Self-employed",
         "Urban",
         "196.92",
         "22.2",
         "never smoked",
         "1"
        ],
        [
         "33",
         "54401",
         "Male",
         "80.0",
         "0",
         "1",
         "Yes",
         "Self-employed",
         "Urban",
         "252.72",
         "30.5",
         "formerly smoked",
         "1"
        ],
        [
         "34",
         "14248",
         "Male",
         "48.0",
         "0",
         "0",
         "No",
         "Govt_job",
         "Urban",
         "84.2",
         "29.7",
         "never smoked",
         "1"
        ],
        [
         "35",
         "712",
         "Female",
         "82.0",
         "1",
         "1",
         "No",
         "Private",
         "Rural",
         "84.03",
         "26.5",
         "formerly smoked",
         "1"
        ],
        [
         "36",
         "47269",
         "Male",
         "74.0",
         "0",
         "0",
         "Yes",
         "Private",
         "Rural",
         "219.72",
         "33.7",
         "formerly smoked",
         "1"
        ],
        [
         "37",
         "24977",
         "Female",
         "72.0",
         "1",
         "0",
         "Yes",
         "Private",
         "Rural",
         "74.63",
         "23.1",
         "formerly smoked",
         "1"
        ],
        [
         "38",
         "47306",
         "Male",
         "58.0",
         "0",
         "0",
         "No",
         "Private",
         "Rural",
         "92.62",
         "32.0",
         "Unknown",
         "1"
        ],
        [
         "39",
         "62602",
         "Female",
         "49.0",
         "0",
         "0",
         "Yes",
         "Private",
         "Urban",
         "60.91",
         "29.9",
         "never smoked",
         "1"
        ],
        [
         "40",
         "4651",
         "Male",
         "78.0",
         "0",
         "0",
         "Yes",
         "Private",
         "Rural",
         "78.03",
         "23.9",
         "formerly smoked",
         "1"
        ],
        [
         "41",
         "1261",
         "Male",
         "54.0",
         "0",
         "0",
         "Yes",
         "Private",
         "Urban",
         "71.22",
         "28.5",
         "never smoked",
         "1"
        ],
        [
         "42",
         "61960",
         "Male",
         "82.0",
         "0",
         "1",
         "Yes",
         "Private",
         "Urban",
         "144.9",
         "26.4",
         "smokes",
         "1"
        ],
        [
         "44",
         "7937",
         "Male",
         "60.0",
         "1",
         "0",
         "Yes",
         "Govt_job",
         "Urban",
         "213.03",
         "20.2",
         "smokes",
         "1"
        ],
        [
         "45",
         "19824",
         "Male",
         "76.0",
         "1",
         "0",
         "Yes",
         "Private",
         "Rural",
         "243.58",
         "33.6",
         "never smoked",
         "1"
        ],
        [
         "47",
         "47472",
         "Female",
         "58.0",
         "0",
         "0",
         "Yes",
         "Private",
         "Urban",
         "107.26",
         "38.6",
         "formerly smoked",
         "1"
        ],
        [
         "48",
         "35626",
         "Male",
         "81.0",
         "0",
         "0",
         "Yes",
         "Self-employed",
         "Urban",
         "99.33",
         "33.7",
         "never smoked",
         "1"
        ],
        [
         "49",
         "36338",
         "Female",
         "39.0",
         "1",
         "0",
         "Yes",
         "Private",
         "Rural",
         "58.09",
         "39.2",
         "smokes",
         "1"
        ],
        [
         "52",
         "59190",
         "Female",
         "79.0",
         "0",
         "1",
         "Yes",
         "Private",
         "Rural",
         "127.29",
         "27.7",
         "never smoked",
         "1"
        ],
        [
         "53",
         "47167",
         "Female",
         "77.0",
         "1",
         "0",
         "Yes",
         "Self-employed",
         "Urban",
         "124.13",
         "31.4",
         "never smoked",
         "1"
        ],
        [
         "55",
         "25831",
         "Male",
         "63.0",
         "0",
         "1",
         "Yes",
         "Private",
         "Rural",
         "196.71",
         "36.5",
         "formerly smoked",
         "1"
        ],
        [
         "56",
         "38829",
         "Female",
         "82.0",
         "0",
         "0",
         "Yes",
         "Private",
         "Rural",
         "59.32",
         "33.2",
         "never smoked",
         "1"
        ],
        [
         "58",
         "58631",
         "Male",
         "73.0",
         "1",
         "0",
         "Yes",
         "Self-employed",
         "Urban",
         "194.99",
         "32.8",
         "never smoked",
         "1"
        ],
        [
         "59",
         "5111",
         "Female",
         "54.0",
         "1",
         "0",
         "Yes",
         "Govt_job",
         "Urban",
         "180.93",
         "27.7",
         "never smoked",
         "1"
        ],
        [
         "60",
         "10710",
         "Female",
         "56.0",
         "0",
         "0",
         "Yes",
         "Private",
         "Urban",
         "185.17",
         "40.4",
         "formerly smoked",
         "1"
        ],
        [
         "61",
         "55927",
         "Female",
         "80.0",
         "1",
         "0",
         "Yes",
         "Private",
         "Rural",
         "74.9",
         "22.2",
         "never smoked",
         "1"
        ]
       ],
       "shape": {
        "columns": 12,
        "rows": 4909
       }
      },
      "text/html": [
       "<div>\n",
       "<style scoped>\n",
       "    .dataframe tbody tr th:only-of-type {\n",
       "        vertical-align: middle;\n",
       "    }\n",
       "\n",
       "    .dataframe tbody tr th {\n",
       "        vertical-align: top;\n",
       "    }\n",
       "\n",
       "    .dataframe thead th {\n",
       "        text-align: right;\n",
       "    }\n",
       "</style>\n",
       "<table border=\"1\" class=\"dataframe\">\n",
       "  <thead>\n",
       "    <tr style=\"text-align: right;\">\n",
       "      <th></th>\n",
       "      <th>id</th>\n",
       "      <th>gender</th>\n",
       "      <th>age</th>\n",
       "      <th>hypertension</th>\n",
       "      <th>heart_disease</th>\n",
       "      <th>ever_married</th>\n",
       "      <th>work_type</th>\n",
       "      <th>Residence_type</th>\n",
       "      <th>avg_glucose_level</th>\n",
       "      <th>bmi</th>\n",
       "      <th>smoking_status</th>\n",
       "      <th>stroke</th>\n",
       "    </tr>\n",
       "  </thead>\n",
       "  <tbody>\n",
       "    <tr>\n",
       "      <th>0</th>\n",
       "      <td>9046</td>\n",
       "      <td>Male</td>\n",
       "      <td>67.0</td>\n",
       "      <td>0</td>\n",
       "      <td>1</td>\n",
       "      <td>Yes</td>\n",
       "      <td>Private</td>\n",
       "      <td>Urban</td>\n",
       "      <td>228.69</td>\n",
       "      <td>36.6</td>\n",
       "      <td>formerly smoked</td>\n",
       "      <td>1</td>\n",
       "    </tr>\n",
       "    <tr>\n",
       "      <th>2</th>\n",
       "      <td>31112</td>\n",
       "      <td>Male</td>\n",
       "      <td>80.0</td>\n",
       "      <td>0</td>\n",
       "      <td>1</td>\n",
       "      <td>Yes</td>\n",
       "      <td>Private</td>\n",
       "      <td>Rural</td>\n",
       "      <td>105.92</td>\n",
       "      <td>32.5</td>\n",
       "      <td>never smoked</td>\n",
       "      <td>1</td>\n",
       "    </tr>\n",
       "    <tr>\n",
       "      <th>3</th>\n",
       "      <td>60182</td>\n",
       "      <td>Female</td>\n",
       "      <td>49.0</td>\n",
       "      <td>0</td>\n",
       "      <td>0</td>\n",
       "      <td>Yes</td>\n",
       "      <td>Private</td>\n",
       "      <td>Urban</td>\n",
       "      <td>171.23</td>\n",
       "      <td>34.4</td>\n",
       "      <td>smokes</td>\n",
       "      <td>1</td>\n",
       "    </tr>\n",
       "    <tr>\n",
       "      <th>4</th>\n",
       "      <td>1665</td>\n",
       "      <td>Female</td>\n",
       "      <td>79.0</td>\n",
       "      <td>1</td>\n",
       "      <td>0</td>\n",
       "      <td>Yes</td>\n",
       "      <td>Self-employed</td>\n",
       "      <td>Rural</td>\n",
       "      <td>174.12</td>\n",
       "      <td>24.0</td>\n",
       "      <td>never smoked</td>\n",
       "      <td>1</td>\n",
       "    </tr>\n",
       "    <tr>\n",
       "      <th>5</th>\n",
       "      <td>56669</td>\n",
       "      <td>Male</td>\n",
       "      <td>81.0</td>\n",
       "      <td>0</td>\n",
       "      <td>0</td>\n",
       "      <td>Yes</td>\n",
       "      <td>Private</td>\n",
       "      <td>Urban</td>\n",
       "      <td>186.21</td>\n",
       "      <td>29.0</td>\n",
       "      <td>formerly smoked</td>\n",
       "      <td>1</td>\n",
       "    </tr>\n",
       "    <tr>\n",
       "      <th>...</th>\n",
       "      <td>...</td>\n",
       "      <td>...</td>\n",
       "      <td>...</td>\n",
       "      <td>...</td>\n",
       "      <td>...</td>\n",
       "      <td>...</td>\n",
       "      <td>...</td>\n",
       "      <td>...</td>\n",
       "      <td>...</td>\n",
       "      <td>...</td>\n",
       "      <td>...</td>\n",
       "      <td>...</td>\n",
       "    </tr>\n",
       "    <tr>\n",
       "      <th>5104</th>\n",
       "      <td>14180</td>\n",
       "      <td>Female</td>\n",
       "      <td>13.0</td>\n",
       "      <td>0</td>\n",
       "      <td>0</td>\n",
       "      <td>No</td>\n",
       "      <td>children</td>\n",
       "      <td>Rural</td>\n",
       "      <td>103.08</td>\n",
       "      <td>18.6</td>\n",
       "      <td>Unknown</td>\n",
       "      <td>0</td>\n",
       "    </tr>\n",
       "    <tr>\n",
       "      <th>5106</th>\n",
       "      <td>44873</td>\n",
       "      <td>Female</td>\n",
       "      <td>81.0</td>\n",
       "      <td>0</td>\n",
       "      <td>0</td>\n",
       "      <td>Yes</td>\n",
       "      <td>Self-employed</td>\n",
       "      <td>Urban</td>\n",
       "      <td>125.20</td>\n",
       "      <td>40.0</td>\n",
       "      <td>never smoked</td>\n",
       "      <td>0</td>\n",
       "    </tr>\n",
       "    <tr>\n",
       "      <th>5107</th>\n",
       "      <td>19723</td>\n",
       "      <td>Female</td>\n",
       "      <td>35.0</td>\n",
       "      <td>0</td>\n",
       "      <td>0</td>\n",
       "      <td>Yes</td>\n",
       "      <td>Self-employed</td>\n",
       "      <td>Rural</td>\n",
       "      <td>82.99</td>\n",
       "      <td>30.6</td>\n",
       "      <td>never smoked</td>\n",
       "      <td>0</td>\n",
       "    </tr>\n",
       "    <tr>\n",
       "      <th>5108</th>\n",
       "      <td>37544</td>\n",
       "      <td>Male</td>\n",
       "      <td>51.0</td>\n",
       "      <td>0</td>\n",
       "      <td>0</td>\n",
       "      <td>Yes</td>\n",
       "      <td>Private</td>\n",
       "      <td>Rural</td>\n",
       "      <td>166.29</td>\n",
       "      <td>25.6</td>\n",
       "      <td>formerly smoked</td>\n",
       "      <td>0</td>\n",
       "    </tr>\n",
       "    <tr>\n",
       "      <th>5109</th>\n",
       "      <td>44679</td>\n",
       "      <td>Female</td>\n",
       "      <td>44.0</td>\n",
       "      <td>0</td>\n",
       "      <td>0</td>\n",
       "      <td>Yes</td>\n",
       "      <td>Govt_job</td>\n",
       "      <td>Urban</td>\n",
       "      <td>85.28</td>\n",
       "      <td>26.2</td>\n",
       "      <td>Unknown</td>\n",
       "      <td>0</td>\n",
       "    </tr>\n",
       "  </tbody>\n",
       "</table>\n",
       "<p>4909 rows × 12 columns</p>\n",
       "</div>"
      ],
      "text/plain": [
       "         id  gender   age  hypertension  heart_disease ever_married  \\\n",
       "0      9046    Male  67.0             0              1          Yes   \n",
       "2     31112    Male  80.0             0              1          Yes   \n",
       "3     60182  Female  49.0             0              0          Yes   \n",
       "4      1665  Female  79.0             1              0          Yes   \n",
       "5     56669    Male  81.0             0              0          Yes   \n",
       "...     ...     ...   ...           ...            ...          ...   \n",
       "5104  14180  Female  13.0             0              0           No   \n",
       "5106  44873  Female  81.0             0              0          Yes   \n",
       "5107  19723  Female  35.0             0              0          Yes   \n",
       "5108  37544    Male  51.0             0              0          Yes   \n",
       "5109  44679  Female  44.0             0              0          Yes   \n",
       "\n",
       "          work_type Residence_type  avg_glucose_level   bmi   smoking_status  \\\n",
       "0           Private          Urban             228.69  36.6  formerly smoked   \n",
       "2           Private          Rural             105.92  32.5     never smoked   \n",
       "3           Private          Urban             171.23  34.4           smokes   \n",
       "4     Self-employed          Rural             174.12  24.0     never smoked   \n",
       "5           Private          Urban             186.21  29.0  formerly smoked   \n",
       "...             ...            ...                ...   ...              ...   \n",
       "5104       children          Rural             103.08  18.6          Unknown   \n",
       "5106  Self-employed          Urban             125.20  40.0     never smoked   \n",
       "5107  Self-employed          Rural              82.99  30.6     never smoked   \n",
       "5108        Private          Rural             166.29  25.6  formerly smoked   \n",
       "5109       Govt_job          Urban              85.28  26.2          Unknown   \n",
       "\n",
       "      stroke  \n",
       "0          1  \n",
       "2          1  \n",
       "3          1  \n",
       "4          1  \n",
       "5          1  \n",
       "...      ...  \n",
       "5104       0  \n",
       "5106       0  \n",
       "5107       0  \n",
       "5108       0  \n",
       "5109       0  \n",
       "\n",
       "[4909 rows x 12 columns]"
      ]
     },
     "execution_count": 4,
     "metadata": {},
     "output_type": "execute_result"
    }
   ],
   "source": [
    "clean_df = df.dropna().copy()\n",
    "clean_df\n",
    "\n"
   ]
  },
  {
   "cell_type": "markdown",
   "metadata": {},
   "source": [
    "Сheck if there are duplicates in the data"
   ]
  },
  {
   "cell_type": "code",
   "execution_count": 5,
   "metadata": {},
   "outputs": [
    {
     "name": "stdout",
     "output_type": "stream",
     "text": [
      "Q-ty of duplicates: 0\n"
     ]
    }
   ],
   "source": [
    "duplicates_count = clean_df.duplicated().sum()\n",
    "print(\"Q-ty of duplicates:\", duplicates_count)"
   ]
  },
  {
   "cell_type": "markdown",
   "metadata": {},
   "source": [
    "Check missing values "
   ]
  },
  {
   "cell_type": "code",
   "execution_count": 6,
   "metadata": {},
   "outputs": [
    {
     "data": {
      "text/plain": [
       "id                   0\n",
       "gender               0\n",
       "age                  0\n",
       "hypertension         0\n",
       "heart_disease        0\n",
       "ever_married         0\n",
       "work_type            0\n",
       "Residence_type       0\n",
       "avg_glucose_level    0\n",
       "bmi                  0\n",
       "smoking_status       0\n",
       "stroke               0\n",
       "dtype: int64"
      ]
     },
     "execution_count": 6,
     "metadata": {},
     "output_type": "execute_result"
    }
   ],
   "source": [
    "clean_df.isnull().sum()\n"
   ]
  },
  {
   "cell_type": "markdown",
   "metadata": {},
   "source": [
    "Check data type of dataset"
   ]
  },
  {
   "cell_type": "code",
   "execution_count": 7,
   "metadata": {},
   "outputs": [
    {
     "data": {
      "text/plain": [
       "id                     int64\n",
       "gender                object\n",
       "age                  float64\n",
       "hypertension           int64\n",
       "heart_disease          int64\n",
       "ever_married          object\n",
       "work_type             object\n",
       "Residence_type        object\n",
       "avg_glucose_level    float64\n",
       "bmi                  float64\n",
       "smoking_status        object\n",
       "stroke                 int64\n",
       "dtype: object"
      ]
     },
     "execution_count": 7,
     "metadata": {},
     "output_type": "execute_result"
    }
   ],
   "source": [
    "clean_df.dtypes"
   ]
  },
  {
   "cell_type": "code",
   "execution_count": 8,
   "metadata": {},
   "outputs": [
    {
     "name": "stdout",
     "output_type": "stream",
     "text": [
      "                 id          age  hypertension  heart_disease  \\\n",
      "count   4909.000000  4909.000000   4909.000000    4909.000000   \n",
      "mean   37064.313506    42.865374      0.091872       0.049501   \n",
      "std    20995.098457    22.555115      0.288875       0.216934   \n",
      "min       77.000000     0.080000      0.000000       0.000000   \n",
      "25%    18605.000000    25.000000      0.000000       0.000000   \n",
      "50%    37608.000000    44.000000      0.000000       0.000000   \n",
      "75%    55220.000000    60.000000      0.000000       0.000000   \n",
      "max    72940.000000    82.000000      1.000000       1.000000   \n",
      "\n",
      "       avg_glucose_level          bmi       stroke  \n",
      "count        4909.000000  4909.000000  4909.000000  \n",
      "mean          105.305150    28.893237     0.042575  \n",
      "std            44.424341     7.854067     0.201917  \n",
      "min            55.120000    10.300000     0.000000  \n",
      "25%            77.070000    23.500000     0.000000  \n",
      "50%            91.680000    28.100000     0.000000  \n",
      "75%           113.570000    33.100000     0.000000  \n",
      "max           271.740000    97.600000     1.000000  \n"
     ]
    }
   ],
   "source": [
    "print(clean_df.describe())"
   ]
  },
  {
   "cell_type": "code",
   "execution_count": 9,
   "metadata": {},
   "outputs": [],
   "source": [
    "clean_df['age'] = clean_df['age'].round().astype(int)"
   ]
  },
  {
   "cell_type": "code",
   "execution_count": 10,
   "metadata": {},
   "outputs": [
    {
     "name": "stdout",
     "output_type": "stream",
     "text": [
      "                 id          age  hypertension  heart_disease  \\\n",
      "count   4909.000000  4909.000000   4909.000000    4909.000000   \n",
      "mean   37064.313506    42.865553      0.091872       0.049501   \n",
      "std    20995.098457    22.554865      0.288875       0.216934   \n",
      "min       77.000000     0.000000      0.000000       0.000000   \n",
      "25%    18605.000000    25.000000      0.000000       0.000000   \n",
      "50%    37608.000000    44.000000      0.000000       0.000000   \n",
      "75%    55220.000000    60.000000      0.000000       0.000000   \n",
      "max    72940.000000    82.000000      1.000000       1.000000   \n",
      "\n",
      "       avg_glucose_level          bmi       stroke  \n",
      "count        4909.000000  4909.000000  4909.000000  \n",
      "mean          105.305150    28.893237     0.042575  \n",
      "std            44.424341     7.854067     0.201917  \n",
      "min            55.120000    10.300000     0.000000  \n",
      "25%            77.070000    23.500000     0.000000  \n",
      "50%            91.680000    28.100000     0.000000  \n",
      "75%           113.570000    33.100000     0.000000  \n",
      "max           271.740000    97.600000     1.000000  \n"
     ]
    }
   ],
   "source": [
    "print(clean_df.describe())"
   ]
  },
  {
   "cell_type": "code",
   "execution_count": 11,
   "metadata": {},
   "outputs": [
    {
     "name": "stdout",
     "output_type": "stream",
     "text": [
      "Column: gender\n",
      "['Male' 'Female' 'Other']\n",
      "––––––––––––––––––––––––––––\n",
      "Column: hypertension\n",
      "[0 1]\n",
      "––––––––––––––––––––––––––––\n",
      "Column: heart_disease\n",
      "[1 0]\n",
      "––––––––––––––––––––––––––––\n",
      "Column: ever_married\n",
      "['Yes' 'No']\n",
      "––––––––––––––––––––––––––––\n",
      "Column: work_type\n",
      "['Private' 'Self-employed' 'Govt_job' 'children' 'Never_worked']\n",
      "––––––––––––––––––––––––––––\n",
      "Column: Residence_type\n",
      "['Urban' 'Rural']\n",
      "––––––––––––––––––––––––––––\n",
      "Column: smoking_status\n",
      "['formerly smoked' 'never smoked' 'smokes' 'Unknown']\n",
      "––––––––––––––––––––––––––––\n",
      "Column: stroke\n",
      "[1 0]\n",
      "––––––––––––––––––––––––––––\n"
     ]
    }
   ],
   "source": [
    "for col in clean_df.columns.drop(['age', 'id', 'avg_glucose_level', 'bmi']):\n",
    "    print(f\"Column: {col}\")\n",
    "    print(clean_df[col].unique())\n",
    "    print(\"––––––––––––––––––––––––––––\")"
   ]
  },
  {
   "cell_type": "code",
   "execution_count": 12,
   "metadata": {},
   "outputs": [
    {
     "name": "stdout",
     "output_type": "stream",
     "text": [
      "Кількість рядків з gender == 'Other': 1\n"
     ]
    }
   ],
   "source": [
    "count_other = clean_df[clean_df['gender'] == 'Other'].shape[0]\n",
    "print(\"Кількість рядків з gender == 'Other':\", count_other)"
   ]
  },
  {
   "cell_type": "code",
   "execution_count": 13,
   "metadata": {},
   "outputs": [
    {
     "name": "stdout",
     "output_type": "stream",
     "text": [
      "         id gender  age  hypertension  heart_disease ever_married work_type  \\\n",
      "3116  56156  Other   26             0              0           No   Private   \n",
      "\n",
      "     Residence_type  avg_glucose_level   bmi   smoking_status  stroke  \n",
      "3116          Rural             143.33  22.4  formerly smoked       0  \n"
     ]
    }
   ],
   "source": [
    "other_rows = clean_df[clean_df['gender'] == 'Other']\n",
    "print(other_rows)"
   ]
  },
  {
   "cell_type": "code",
   "execution_count": 14,
   "metadata": {},
   "outputs": [],
   "source": [
    "idx = clean_df.loc[clean_df['gender'] == 'Other'].index\n",
    "clean_df.drop(idx, inplace=True)"
   ]
  },
  {
   "cell_type": "code",
   "execution_count": 16,
   "metadata": {},
   "outputs": [
    {
     "name": "stdout",
     "output_type": "stream",
     "text": [
      "Фінальні розміри датафрейму: (4908, 12)\n"
     ]
    }
   ],
   "source": [
    "print(\"Фінальні розміри датафрейму:\", clean_df.shape)"
   ]
  },
  {
   "cell_type": "markdown",
   "metadata": {},
   "source": [
    "## 1. Переглянемо скільки людей у вибірці мали інсульт та їх відсоток від загальної вибірки "
   ]
  },
  {
   "cell_type": "code",
   "execution_count": 25,
   "metadata": {},
   "outputs": [
    {
     "name": "stdout",
     "output_type": "stream",
     "text": [
      "Загальна кількість людей: 4908\n",
      "Кількість людей, які перенесли інсульт: 209\n",
      "Відсоток людей, які перенесли інсульт: 4.26\n"
     ]
    }
   ],
   "source": [
    "total_people = len(clean_df)\n",
    "print(\"Загальна кількість людей:\", total_people)\n",
    "total_stroke = clean_df['stroke'].sum()\n",
    "print(\"Кількість людей, які перенесли інсульт:\", total_stroke)\n",
    "stroke_percentage = ((total_stroke / total_people) * 100).round(2)\n",
    "print(\"Відсоток людей, які перенесли інсульт:\", stroke_percentage)"
   ]
  },
  {
   "cell_type": "markdown",
   "metadata": {},
   "source": [
    "## 2.Який гендер частіше переносить інсульт?"
   ]
  },
  {
   "cell_type": "code",
   "execution_count": 206,
   "metadata": {},
   "outputs": [
    {
     "data": {
      "text/plain": [
       "gender\n",
       "Female    4.14\n",
       "Male      4.43\n",
       "dtype: float64"
      ]
     },
     "execution_count": 206,
     "metadata": {},
     "output_type": "execute_result"
    }
   ],
   "source": [
    "total_by_gender = clean_df.groupby('gender').size()\n",
    "stroke_by_gender = clean_df.groupby('gender')['stroke'].sum()\n",
    "stroke_by_gender_percent = ((stroke_by_gender / total_by_gender) * 100).round(2)\n",
    "stroke_by_gender_percent"
   ]
  },
  {
   "cell_type": "code",
   "execution_count": 207,
   "metadata": {},
   "outputs": [
    {
     "data": {
      "image/png": "[encoded data removed]",
      "text/plain": [
       "<Figure size 800x500 with 1 Axes>"
      ]
     },
     "metadata": {},
     "output_type": "display_data"
    }
   ],
   "source": [
    "stroke_by_gender_percent.plot(kind='bar', color=['blue', 'orange'], figsize=(8, 5))\n",
    "plt.title('Відсоток інсультів за гендером', pad=20, fontsize = 15)\n",
    "plt.xlabel('Gender')\n",
    "plt.xticks(rotation=0)\n",
    "plt.ylabel('Percentage of Stroke, %')\n",
    "plt.grid(axis='y', linestyle='--', alpha=0.7)"
   ]
  },
  {
   "cell_type": "markdown",
   "metadata": {},
   "source": [
    "Висновок: З графіку бачимо, що відсоток інсультів серед жінок є вищим, ніж серед чоловіків. Це може свідчити про те, що гендер є фактором ризику, і жінки частіше схильні до інсульту у вибірці цього дослідження."
   ]
  },
  {
   "cell_type": "markdown",
   "metadata": {},
   "source": [
    "## 3.Чи одружені чоловіки та жінки мають більше інсультів?"
   ]
  },
  {
   "cell_type": "code",
   "execution_count": 35,
   "metadata": {},
   "outputs": [
    {
     "name": "stdout",
     "output_type": "stream",
     "text": [
      "Відсоток інсультів за гендером та шлюбним статусом\n",
      "gender  ever_married\n",
      "Female  No              1.66\n",
      "        Yes             5.38\n",
      "Male    No              0.95\n",
      "        Yes             6.45\n",
      "Name: stroke, dtype: float64\n",
      "\n"
     ]
    }
   ],
   "source": [
    "gender_stroke_percent_married = (clean_df.groupby(['gender', 'ever_married'])['stroke'].mean() * 100).round(2)\n",
    "\n",
    "print(\"Відсоток інсультів за гендером та шлюбним статусом\")\n",
    "print(gender_stroke_percent_married)\n",
    "print()"
   ]
  },
  {
   "cell_type": "code",
   "execution_count": 43,
   "metadata": {},
   "outputs": [],
   "source": [
    "grouped_unstacked = gender_stroke_percent_married.unstack()"
   ]
  },
  {
   "cell_type": "code",
   "execution_count": 135,
   "metadata": {},
   "outputs": [
    {
     "data": {
      "image/png": "[encoded data removed]",
      "text/plain": [
       "<Figure size 800x500 with 1 Axes>"
      ]
     },
     "metadata": {},
     "output_type": "display_data"
    }
   ],
   "source": [
    "graph = grouped_unstacked.plot(kind='bar', color=['blue', 'orange'], figsize=(8, 5))\n",
    "plt.title('Відсоток інсультів за гендером та шлюбним статусом', pad=20, fontsize = 15)\n",
    "plt.ylabel('Percentage of Stroke, %')\n",
    "plt.xlabel('Gender')\n",
    "plt.xticks(rotation = 45)\n",
    "plt.legend(title='Ever Married')\n",
    "plt.grid(axis='both', alpha=.5) \n",
    "\n",
    "for container in graph.containers:\n",
    "    graph.bar_label(container, fmt='%.2f', label_type='edge')\n",
    "    \n",
    "plt.show()"
   ]
  },
  {
   "cell_type": "markdown",
   "metadata": {},
   "source": [
    "Висновок: Аналіз показав, що як серед чоловіків, так і серед жінок частка інсультів вища у тих, хто одружений. Особливо помітно, що одружені жінки мають дещо вищий відсоток інсультів, ніж одружені чоловіки.Можливий вплив біологічних або соціальних факторів, наприклад рівні стресу."
   ]
  },
  {
   "cell_type": "markdown",
   "metadata": {},
   "source": [
    "## 4. Яка залежність між віком та наявністю інсульту?"
   ]
  },
  {
   "cell_type": "code",
   "execution_count": 64,
   "metadata": {},
   "outputs": [
    {
     "name": "stdout",
     "output_type": "stream",
     "text": [
      "Найбільший відсоток інсультів 23.88 % у віці 80 років\n"
     ]
    }
   ],
   "source": [
    "age_stroke = (clean_df.groupby('age')['stroke'].mean() * 100).round(2)\n",
    "age_stroke\n",
    "print(\"Найбільший відсоток інсультів\",max(age_stroke),\"% у віці\", age_stroke.idxmax(),\"років\")"
   ]
  },
  {
   "cell_type": "code",
   "execution_count": 97,
   "metadata": {},
   "outputs": [
    {
     "name": "stdout",
     "output_type": "stream",
     "text": [
      " Середній вік для груп без інсульту та з інсультом:\n",
      "stroke\n",
      "0    41.763992\n",
      "1    67.712919\n",
      "Name: age, dtype: float64\n"
     ]
    }
   ],
   "source": [
    "age_stroke = clean_df.groupby('stroke')['age'].mean()\n",
    "print(\" Середній вік для груп без інсульту та з інсультом:\")\n",
    "print(age_stroke)"
   ]
  },
  {
   "cell_type": "markdown",
   "metadata": {},
   "source": [
    "Перевіримо гіпотезу чи вік впливає на ймовірність інсульту"
   ]
  },
  {
   "cell_type": "markdown",
   "metadata": {},
   "source": [
    "Перевіримо чи існує статистично значуща різниця у середньому віці пацієнтів, які перенесли інсульт, порівняно з тими хто не мав інсульту.\n",
    "Нульова гіпотеза (H₀): Середній вік пацієнтів з інсультом не відрізняється від середнього віку пацієнтів без інсульту.\n",
    "Альтернативна гіпотеза (H₁):Середній вік пацієнтів з інсультом відрізняється від середнього віку пацієнтів без інсульту."
   ]
  },
  {
   "cell_type": "code",
   "execution_count": 81,
   "metadata": {},
   "outputs": [
    {
     "name": "stdout",
     "output_type": "stream",
     "text": [
      "   Результати t-тесту для віку:\n",
      "   t-stat = -28.29, p-value = 0.00\n",
      "\n"
     ]
    }
   ],
   "source": [
    "age_stroke_without = clean_df[clean_df['stroke'] == 0]['age']\n",
    "age_stroke = clean_df[clean_df['stroke'] == 1]['age']\n",
    "t_stat, p_val = stats.ttest_ind(age_stroke_without, age_stroke, equal_var=False)\n",
    "print(\"   Результати t-тесту для віку:\")\n",
    "print(f\"   t-stat = {t_stat:.2f}, p-value = {p_val:.2f}\\n\")"
   ]
  },
  {
   "cell_type": "markdown",
   "metadata": {},
   "source": [
    "Оскільки наше $p$-значення=0.000 нижче за $\\alpha$ = 0.05, ми можемо відхилити нульову гіпотезу $H_0$, що означає, що cередній вік пацієнтів з інсультом відрізняється від середнього віку пацієнтів без інсульту.."
   ]
  },
  {
   "cell_type": "markdown",
   "metadata": {},
   "source": [
    "Висновок: Середній вік пацієнтів, які перенесли інсульт, статистично значущо вищий, ніж середній вік тих, хто інсульту не мав.\n",
    "Це означає, що вік впливає на фактор виникнення інсульту, тому варто робити більш детальні дослідження на вибірці людей віком старше 60 років, тоді ми отримує кращі висновки."
   ]
  },
  {
   "cell_type": "markdown",
   "metadata": {},
   "source": [
    "## 5.Чи існує взаємозв’язок між гіпертонією (hypertension), хворобами серця (heart_disease) та інсультом?"
   ]
  },
  {
   "cell_type": "code",
   "execution_count": 151,
   "metadata": {},
   "outputs": [
    {
     "data": {
      "text/plain": [
       "hypertension  heart_disease  stroke\n",
       "0             0              0         4152\n",
       "                             1          120\n",
       "              1              0          156\n",
       "                             1           29\n",
       "1             0              0          344\n",
       "                             1           49\n",
       "              1              0           47\n",
       "                             1           11\n",
       "dtype: int64"
      ]
     },
     "execution_count": 151,
     "metadata": {},
     "output_type": "execute_result"
    }
   ],
   "source": [
    "hypertension_heart_disease_stroke = clean_df.groupby(['hypertension', 'heart_disease', 'stroke']).size()\n",
    "hypertension_heart_disease_stroke"
   ]
  },
  {
   "cell_type": "code",
   "execution_count": 109,
   "metadata": {},
   "outputs": [
    {
     "name": "stdout",
     "output_type": "stream",
     "text": [
      "Кількість інсультів при різних поєднаннях гіпертонії та хвороб серця:\n",
      " stroke                         0    1\n",
      "hypertension heart_disease           \n",
      "0            0              4152  120\n",
      "             1               156   29\n",
      "1            0               344   49\n",
      "             1                47   11\n"
     ]
    }
   ],
   "source": [
    "hypertension_heart_disease_stroke = hypertension_heart_disease_stroke.unstack().fillna(0)\n",
    "\n",
    "hypertension_heart_disease_stroke_table = hypertension_heart_disease_stroke.apply(lambda x: x / x.sum() * 100, axis=1)\n",
    "\n",
    "print(\"Кількість інсультів при різних поєднаннях гіпертонії та хвороб серця:\\n\", hypertension_heart_disease_stroke)"
   ]
  },
  {
   "cell_type": "code",
   "execution_count": 110,
   "metadata": {},
   "outputs": [
    {
     "name": "stdout",
     "output_type": "stream",
     "text": [
      "\n",
      " Відсотковий розподіл:\n",
      " stroke                              0          1\n",
      "hypertension heart_disease                      \n",
      "0            0              97.191011   2.808989\n",
      "             1              84.324324  15.675676\n",
      "1            0              87.531807  12.468193\n",
      "             1              81.034483  18.965517 \n",
      "\n"
     ]
    }
   ],
   "source": [
    "print(\"\\n Відсотковий розподіл:\\n\", hypertension_heart_disease_stroke_table, \"\\n\")"
   ]
  },
  {
   "cell_type": "code",
   "execution_count": 132,
   "metadata": {},
   "outputs": [
    {
     "data": {
      "image/png": "[encoded data removed]",
      "text/plain": [
       "<Figure size 600x400 with 2 Axes>"
      ]
     },
     "metadata": {},
     "output_type": "display_data"
    }
   ],
   "source": [
    "heatmap_data = hypertension_heart_disease_stroke_table[1].unstack()\n",
    "\n",
    "plt.figure(figsize=(6, 4))\n",
    "sns.heatmap(heatmap_data, annot=True, fmt=\".1f\", cmap=\"Reds\", cbar_kws={'label': 'Інсульти (%)'})\n",
    "plt.title(\"Теплова карта інсультів за гіпертонією та хворобами серця, %\", pad=20, fontsize = 15)\n",
    "plt.xlabel(\"Хвороба серця (heart_disease)\")\n",
    "plt.ylabel(\"Гіпертонія (hypertension)\")\n",
    "plt.show()"
   ]
  },
  {
   "cell_type": "markdown",
   "metadata": {},
   "source": [
    "Висновок: з графіку бачимо, що найменшу к-ть інсультів мають, ті хто немає жодної хвороби 2,8%.\n",
    "Наявність хочі б однієї з хвороби суттєво підвищує ризик мати інсульт:12,5% - гіпертонія, 15,7% хвороби серця\n",
    "19% інсульту при двох хворобах одночасно"
   ]
  },
  {
   "cell_type": "markdown",
   "metadata": {},
   "source": [
    "## 6.Чи впливає куріння на наявність інсульту? "
   ]
  },
  {
   "cell_type": "code",
   "execution_count": 162,
   "metadata": {},
   "outputs": [
    {
     "name": "stdout",
     "output_type": "stream",
     "text": [
      "smoking_status\n",
      "Unknown            29\n",
      "formerly smoked    57\n",
      "never smoked       84\n",
      "smokes             39\n",
      "Name: stroke, dtype: int64\n"
     ]
    }
   ],
   "source": [
    "smoke_stroke = clean_df.groupby('smoking_status')['stroke'].sum()\n",
    "print(smoke_stroke)"
   ]
  },
  {
   "cell_type": "code",
   "execution_count": 218,
   "metadata": {},
   "outputs": [
    {
     "data": {
      "image/png": "[encoded data removed]",
      "text/plain": [
       "<Figure size 800x500 with 1 Axes>"
      ]
     },
     "metadata": {},
     "output_type": "display_data"
    }
   ],
   "source": [
    "fig, ax = plt.subplots(figsize=(8, 5))\n",
    "bars = ax.bar(smoke_stroke.index, smoke_stroke.values, color=['blue', 'orange', 'green', 'red'])\n",
    "ax.set_title(\"Кількість інсультів за статусом куріння\", pad=20)\n",
    "ax.set_ylabel(\"Кількість інсультів\")\n",
    "ax.set_xlabel(\"Статус куріння\")\n",
    "plt.xticks(rotation = 45)\n",
    "plt.grid(axis='y', alpha=0.3)\n"
   ]
  },
  {
   "cell_type": "markdown",
   "metadata": {},
   "source": [
    "З графіку можна зробити висновок, що люди, які не курять мають більшу схильність до інсультів, що ставить під сумнів коректність таких висновків."
   ]
  },
  {
   "cell_type": "markdown",
   "metadata": {},
   "source": [
    "Перевіримо гіпотезу чи куріння впливає на виникнення інсульту"
   ]
  },
  {
   "cell_type": "markdown",
   "metadata": {},
   "source": [
    "Нульова гіпотеза (H₀): статус куріння не впливає на виникнення інсульту\n",
    "Альтернативна гіпотеза (H₁): статус куріння впливає на виникнення інсульту"
   ]
  },
  {
   "cell_type": "code",
   "execution_count": 196,
   "metadata": {},
   "outputs": [],
   "source": [
    "smoke_stroke_table = clean_df.groupby(['smoking_status','stroke']).size()\n",
    "smoke_stroke_table = smoke_stroke_table.unstack().fillna(0)"
   ]
  },
  {
   "cell_type": "code",
   "execution_count": 180,
   "metadata": {},
   "outputs": [
    {
     "name": "stdout",
     "output_type": "stream",
     "text": [
      "Результати хі-квадрат тесту: 0.0\n",
      "Відмінності між статусами куріння статистично значущі, тому куріння впливає на ймовірність інсульту\n"
     ]
    }
   ],
   "source": [
    "from scipy.stats import chi2_contingency\n",
    "res = chi2_contingency(smoke_stroke_table)\n",
    "print(\"Результати хі-квадрат тесту:\", (res.pvalue).round(4))\n",
    "if res.pvalue < 0.05:\n",
    "    print(\"Відмінності між статусами куріння статистично значущі, тому куріння впливає на ймовірність інсульту\")"
   ]
  },
  {
   "cell_type": "markdown",
   "metadata": {},
   "source": [
    "Аналіз показав, що куріння впливає на ймовірність інсульту, тому побудуємо графік відсоток інсультів за статусом куріння, тому що в групах курців та не курців може бути різна чисельність опитуваних"
   ]
  },
  {
   "cell_type": "code",
   "execution_count": 191,
   "metadata": {},
   "outputs": [
    {
     "data": {
      "text/plain": [
       "smoking_status\n",
       "Unknown            1483\n",
       "formerly smoked     836\n",
       "never smoked       1852\n",
       "smokes              737\n",
       "dtype: int64"
      ]
     },
     "execution_count": 191,
     "metadata": {},
     "output_type": "execute_result"
    }
   ],
   "source": [
    "group_smoke_total = clean_df.groupby('smoking_status').size()\n",
    "group_smoke_total"
   ]
  },
  {
   "cell_type": "code",
   "execution_count": 189,
   "metadata": {},
   "outputs": [
    {
     "data": {
      "text/plain": [
       "smoking_status\n",
       "Unknown            29\n",
       "formerly smoked    57\n",
       "never smoked       84\n",
       "smokes             39\n",
       "Name: stroke, dtype: int64"
      ]
     },
     "execution_count": 189,
     "metadata": {},
     "output_type": "execute_result"
    }
   ],
   "source": [
    "group_smoke = clean_df.groupby('smoking_status')['stroke'].sum()\n",
    "group_smoke"
   ]
  },
  {
   "cell_type": "code",
   "execution_count": 192,
   "metadata": {},
   "outputs": [
    {
     "data": {
      "text/plain": [
       "smoking_status\n",
       "Unknown            1.955496\n",
       "formerly smoked    6.818182\n",
       "never smoked       4.535637\n",
       "smokes             5.291723\n",
       "dtype: float64"
      ]
     },
     "execution_count": 192,
     "metadata": {},
     "output_type": "execute_result"
    }
   ],
   "source": [
    "stroke_percent = (group_smoke / group_smoke_total) * 100\n",
    "stroke_percent"
   ]
  },
  {
   "cell_type": "code",
   "execution_count": 219,
   "metadata": {},
   "outputs": [
    {
     "data": {
      "image/png": "[encoded data removed]",
      "text/plain": [
       "<Figure size 800x500 with 1 Axes>"
      ]
     },
     "metadata": {},
     "output_type": "display_data"
    }
   ],
   "source": [
    "fig, ax = plt.subplots(figsize=(8, 5))\n",
    "bars = ax.bar(stroke_percent.index, stroke_percent.values, color=['blue', 'orange', 'green', 'red'])\n",
    "\n",
    "ax.set_title(\"Відсоток інсультів за статусом куріння\", pad=20)\n",
    "ax.set_ylabel(\"Відсоток інсультів, %\")\n",
    "ax.set_xlabel(\"Статус куріння\")\n",
    "plt.xticks(rotation = 45)\n",
    "plt.grid(axis='y', alpha=0.3)\n",
    "\n",
    "for container in ax.containers:\n",
    "    ax.bar_label(container, fmt='%.2f', label_type='edge')"
   ]
  },
  {
   "cell_type": "markdown",
   "metadata": {},
   "source": [
    "Висновок: Аналіз показав, що люди, які курили раніше (formerly smoked) або курять зараз (smokes), мають вищий відсоток інсультів, ніж ті, хто ніколи не курив (never smoked). Хоча в абсолютних значеннях найбільше інсультів у некурців, це пояснюється тим, що ця група є найбільш чисельною у вибірці.\n",
    "\n",
    "Проведений χ²-тест незалежності підтвердив, що існує статистично значущий зв’язок між статусом куріння та інсультом."
   ]
  },
  {
   "cell_type": "markdown",
   "metadata": {},
   "source": [
    "## 7 Чи відрізняється середній BMI (індекс маси тіла) у людей з та без інсульту?"
   ]
  },
  {
   "cell_type": "code",
   "execution_count": 198,
   "metadata": {},
   "outputs": [
    {
     "name": "stdout",
     "output_type": "stream",
     "text": [
      "Середній BMI для груп без інсульту та з інсультом:\n",
      "stroke\n",
      "0    28.824\n",
      "1    30.471\n",
      "Name: bmi, dtype: float64\n"
     ]
    }
   ],
   "source": [
    "bmi_stroke = (clean_df.groupby('stroke')['bmi'].mean()).round(3)\n",
    "print(\"Середній BMI для груп без інсульту та з інсультом:\") \n",
    "print(bmi_stroke)"
   ]
  },
  {
   "cell_type": "markdown",
   "metadata": {},
   "source": [
    "Висновок: Індекс маси тіла (BMI) має вплив на ризик інсульту. Люди з вищим BMI частіше мають інсульти"
   ]
  },
  {
   "cell_type": "markdown",
   "metadata": {},
   "source": [
    "## 8 Чи існує кореляція між середнім рівнем глюкози (avg_glucose_level) та наявністю інсульту?"
   ]
  },
  {
   "cell_type": "code",
   "execution_count": 202,
   "metadata": {},
   "outputs": [
    {
     "data": {
      "text/plain": [
       "array([[1.        , 0.13898365],\n",
       "       [0.13898365, 1.        ]])"
      ]
     },
     "execution_count": 202,
     "metadata": {},
     "output_type": "execute_result"
    }
   ],
   "source": [
    "x = clean_df['avg_glucose_level'].values\n",
    "y = clean_df['stroke'].values\n",
    "pirson = np.corrcoef(x,y)\n",
    "pirson"
   ]
  },
  {
   "cell_type": "markdown",
   "metadata": {},
   "source": [
    "Висновок: коефіцієнт кореляції Пірсона = 0.139, що показує слабку кореляцію. Можемо сказати, що рівень глюкози не сильно впливає на ризик виникнення інсульту і потрібно дивитись на інші параметри, або поєднуючи даний показник з іншими хворобами"
   ]
  },
  {
   "cell_type": "markdown",
   "metadata": {},
   "source": [
    "## 9 Чи існує різниця у відсотку інсультів між міськими та сільськими жителями (Residence_type)?"
   ]
  },
  {
   "cell_type": "code",
   "execution_count": 204,
   "metadata": {},
   "outputs": [
    {
     "data": {
      "text/plain": [
       "Residence_type\n",
       "Rural    4.53\n",
       "Urban    5.20\n",
       "dtype: float64"
      ]
     },
     "execution_count": 204,
     "metadata": {},
     "output_type": "execute_result"
    }
   ],
   "source": [
    "total_by_residence = df.groupby('Residence_type').size()\n",
    "stroke_by_residence = df.groupby('Residence_type')['stroke'].sum()\n",
    "residence_stroke_percent = ((stroke_by_residence / total_by_residence) * 100).round(2)\n",
    "residence_stroke_percent"
   ]
  },
  {
   "cell_type": "markdown",
   "metadata": {},
   "source": [
    "Висновок: відповідно до отриманих результатів, тип місця проживання (місто чи село) не має суттєвого впливу на ризик виникнення інсульту"
   ]
  },
  {
   "cell_type": "markdown",
   "metadata": {},
   "source": [
    "## 10 Чи існує різниця у відсотку інсультів між міськими та сільськими жителями (Residence_type)?"
   ]
  },
  {
   "cell_type": "code",
   "execution_count": 208,
   "metadata": {},
   "outputs": [
    {
     "data": {
      "text/plain": [
       "work_type\n",
       "Govt_job         5.02\n",
       "Never_worked     0.00\n",
       "Private          5.09\n",
       "Self-employed    7.94\n",
       "children         0.29\n",
       "dtype: float64"
      ]
     },
     "execution_count": 208,
     "metadata": {},
     "output_type": "execute_result"
    }
   ],
   "source": [
    "total_by_work = df.groupby('work_type').size()\n",
    "stroke_by_work = df.groupby('work_type')['stroke'].sum()\n",
    "work_stroke_percent = ((stroke_by_work / total_by_work) * 100).round(2)\n",
    "work_stroke_percent"
   ]
  },
  {
   "cell_type": "code",
   "execution_count": 217,
   "metadata": {},
   "outputs": [
    {
     "data": {
      "image/png": "[encoded data removed]",
      "text/plain": [
       "<Figure size 640x480 with 1 Axes>"
      ]
     },
     "metadata": {},
     "output_type": "display_data"
    }
   ],
   "source": [
    "\n",
    "labels = work_stroke_percent.index\n",
    "sizes = work_stroke_percent.values\n",
    "\n",
    "explode = [0.2 if val == max(sizes) else 0 for val in sizes]\n",
    "\n",
    "\n",
    "plt.pie(sizes, labels=labels, explode=explode, shadow=True,\n",
    "        autopct='%1.1f%%', startangle=140)\n",
    "\n",
    "plt.title(\"Відсоток інсультів за типом роботи\")\n",
    "plt.tight_layout()\n",
    "plt.show()"
   ]
  },
  {
   "cell_type": "markdown",
   "metadata": {},
   "source": [
    "Висновок: з діаграми видно, що Self-employed — має найбільший ризик виникнення інсульту, а найменший Children та Never_worked."
   ]
  },
  {
   "cell_type": "markdown",
   "metadata": {},
   "source": [
    "## Фінальний висновок\n",
    "\n",
    "У ході аналітичного дослідження були виявлені **ключові фактори**, пов’язані з підвищеним ризиком інсульту:\n",
    "\n",
    "- Також спостерігається **вищий відсоток інсультів серед жінок**, особливо тих, хто перебуває у шлюбі.\n",
    "- Люди з **гіпертонією** та/або **серцевими захворюваннями** мають у 3–5 разів вищий ризик інсульту.\n",
    "- **Старший вік** підвищує ризик інсульту (**p < 0.001**).\n",
    "- **Куріння** також є фактором ризику, хоча серед некурців більше випадків через велику кількість у вибірці.\n",
    "- Найвищий відсоток інсультів зафіксовано серед **самозайнятих осіб (self-employed)**.\n",
    "- Вплив **гіпертонії**, **віку** та **типу зайнятості** є **статистично значущим**.\n",
    "- Тип проживання (**місто/село**) не має суттєвого впливу на ризик інсульту.\n",
    "\n",
    "---\n",
    "\n",
    "## Рекомендації\n",
    "\n",
    "- Звернути увагу на **групи ризику**: літні люди, пацієнти з хронічними хворобами.\n",
    "- Впровадити **профілактичні заходи** для людей з гіпертонією та колишніх курців.\n",
    "- Використовувати **моделі машинного навчання** для прогнозування ризику інсульту на основі ключових факторів."
   ]
  },
  {
   "cell_type": "code",
   "execution_count": 220,
   "metadata": {},
   "outputs": [],
   "source": [
    "clean_df.to_csv(\"clean_data.csv\", index=False)"
   ]
  }
 ],
 "metadata": {
  "kernelspec": {
   "display_name": "Python 3",
   "language": "python",
   "name": "python3"
  },
  "language_info": {
   "codemirror_mode": {
    "name": "ipython",
    "version": 3
   },
   "file_extension": ".py",
   "mimetype": "text/x-python",
   "name": "python",
   "nbconvert_exporter": "python",
   "pygments_lexer": "ipython3",
   "version": "3.12.9"
  }
 },
 "nbformat": 4,
 "nbformat_minor": 2
}
